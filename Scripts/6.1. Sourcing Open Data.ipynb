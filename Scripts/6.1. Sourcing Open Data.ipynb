{
 "cells": [
  {
   "cell_type": "markdown",
   "id": "9e23e6a4-cb43-4aee-96a4-f1391d361926",
   "metadata": {},
   "source": [
    "## Exercise 6.1. Sourcing Open Data"
   ]
  },
  {
   "cell_type": "markdown",
   "id": "642a09f8-9278-4705-8eb5-f67f46f679af",
   "metadata": {},
   "source": [
    "### Importing nessesary libraries and dataset"
   ]
  },
  {
   "cell_type": "code",
   "execution_count": 1,
   "id": "f9d88fd7-b435-49f1-be52-1a140b40f4a1",
   "metadata": {},
   "outputs": [],
   "source": [
    "import pandas as pd\n",
    "import numpy as np\n",
    "import os"
   ]
  },
  {
   "cell_type": "code",
   "execution_count": 2,
   "id": "aeee921f-b962-4024-893b-5b5b0f13e0f6",
   "metadata": {},
   "outputs": [],
   "source": [
    "### Set path\n",
    "path = r'C:\\Users\\User\\Downloads\\Achievement 6'"
   ]
  },
  {
   "cell_type": "code",
   "execution_count": 3,
   "id": "5572f0bb-269a-425c-b1d9-9b5deb1cd579",
   "metadata": {},
   "outputs": [],
   "source": [
    "df=pd.read_csv(os.path.join(path, 'flavors_of_cacao.csv'))"
   ]
  },
  {
   "cell_type": "code",
   "execution_count": 4,
   "id": "cde29d38-9eda-4dde-b7fa-ec4ae2bf711d",
   "metadata": {},
   "outputs": [
    {
     "data": {
      "text/html": [
       "<div>\n",
       "<style scoped>\n",
       "    .dataframe tbody tr th:only-of-type {\n",
       "        vertical-align: middle;\n",
       "    }\n",
       "\n",
       "    .dataframe tbody tr th {\n",
       "        vertical-align: top;\n",
       "    }\n",
       "\n",
       "    .dataframe thead th {\n",
       "        text-align: right;\n",
       "    }\n",
       "</style>\n",
       "<table border=\"1\" class=\"dataframe\">\n",
       "  <thead>\n",
       "    <tr style=\"text-align: right;\">\n",
       "      <th></th>\n",
       "      <th>Company (Maker-if known)</th>\n",
       "      <th>Specific Bean Origin or Bar Name</th>\n",
       "      <th>REF</th>\n",
       "      <th>Review Date</th>\n",
       "      <th>Cocoa Percent</th>\n",
       "      <th>Company Location</th>\n",
       "      <th>Rating</th>\n",
       "      <th>Bean Type</th>\n",
       "      <th>Broad Bean Origin</th>\n",
       "    </tr>\n",
       "  </thead>\n",
       "  <tbody>\n",
       "    <tr>\n",
       "      <th>0</th>\n",
       "      <td>A. Morin</td>\n",
       "      <td>Agua Grande</td>\n",
       "      <td>1876</td>\n",
       "      <td>2016</td>\n",
       "      <td>63%</td>\n",
       "      <td>France</td>\n",
       "      <td>3.75</td>\n",
       "      <td>NaN</td>\n",
       "      <td>Sao Tome</td>\n",
       "    </tr>\n",
       "    <tr>\n",
       "      <th>1</th>\n",
       "      <td>A. Morin</td>\n",
       "      <td>Kpime</td>\n",
       "      <td>1676</td>\n",
       "      <td>2015</td>\n",
       "      <td>70%</td>\n",
       "      <td>France</td>\n",
       "      <td>2.75</td>\n",
       "      <td>NaN</td>\n",
       "      <td>Togo</td>\n",
       "    </tr>\n",
       "    <tr>\n",
       "      <th>2</th>\n",
       "      <td>A. Morin</td>\n",
       "      <td>Atsane</td>\n",
       "      <td>1676</td>\n",
       "      <td>2015</td>\n",
       "      <td>70%</td>\n",
       "      <td>France</td>\n",
       "      <td>3.00</td>\n",
       "      <td>NaN</td>\n",
       "      <td>Togo</td>\n",
       "    </tr>\n",
       "    <tr>\n",
       "      <th>3</th>\n",
       "      <td>A. Morin</td>\n",
       "      <td>Akata</td>\n",
       "      <td>1680</td>\n",
       "      <td>2015</td>\n",
       "      <td>70%</td>\n",
       "      <td>France</td>\n",
       "      <td>3.50</td>\n",
       "      <td>NaN</td>\n",
       "      <td>Togo</td>\n",
       "    </tr>\n",
       "    <tr>\n",
       "      <th>4</th>\n",
       "      <td>A. Morin</td>\n",
       "      <td>Quilla</td>\n",
       "      <td>1704</td>\n",
       "      <td>2015</td>\n",
       "      <td>70%</td>\n",
       "      <td>France</td>\n",
       "      <td>3.50</td>\n",
       "      <td>NaN</td>\n",
       "      <td>Peru</td>\n",
       "    </tr>\n",
       "  </tbody>\n",
       "</table>\n",
       "</div>"
      ],
      "text/plain": [
       "  Company (Maker-if known) Specific Bean Origin or Bar Name   REF  \\\n",
       "0                 A. Morin                      Agua Grande  1876   \n",
       "1                 A. Morin                            Kpime  1676   \n",
       "2                 A. Morin                           Atsane  1676   \n",
       "3                 A. Morin                            Akata  1680   \n",
       "4                 A. Morin                           Quilla  1704   \n",
       "\n",
       "   Review Date Cocoa Percent Company Location  Rating Bean Type  \\\n",
       "0         2016           63%           France    3.75       NaN   \n",
       "1         2015           70%           France    2.75       NaN   \n",
       "2         2015           70%           France    3.00       NaN   \n",
       "3         2015           70%           France    3.50       NaN   \n",
       "4         2015           70%           France    3.50       NaN   \n",
       "\n",
       "  Broad Bean Origin  \n",
       "0          Sao Tome  \n",
       "1              Togo  \n",
       "2              Togo  \n",
       "3              Togo  \n",
       "4              Peru  "
      ]
     },
     "execution_count": 4,
     "metadata": {},
     "output_type": "execute_result"
    }
   ],
   "source": [
    "df.head()"
   ]
  },
  {
   "cell_type": "code",
   "execution_count": 5,
   "id": "b87557a8-85cf-4d90-adf1-c8bde6280883",
   "metadata": {},
   "outputs": [
    {
     "data": {
      "text/plain": [
       "Company (Maker-if known)              0\n",
       "Specific Bean Origin or Bar Name      0\n",
       "REF                                   0\n",
       "Review Date                           0\n",
       "Cocoa Percent                         0\n",
       "Company Location                      0\n",
       "Rating                                0\n",
       "Bean Type                           888\n",
       "Broad Bean Origin                     1\n",
       "dtype: int64"
      ]
     },
     "execution_count": 5,
     "metadata": {},
     "output_type": "execute_result"
    }
   ],
   "source": [
    "### Checking for missing values\n",
    "df.isnull().sum()"
   ]
  },
  {
   "cell_type": "code",
   "execution_count": 6,
   "id": "766a19a1-0351-4782-aa66-3ae80661fbfb",
   "metadata": {},
   "outputs": [],
   "source": [
    "### There are 888 missing values in the \"bean type\" column. As this column is irrelevant for my analisys, I will remove it \n",
    "df=df.drop(columns=['Bean Type'])"
   ]
  },
  {
   "cell_type": "code",
   "execution_count": 7,
   "id": "a7c6f731-6f31-486f-9fa4-cdac225bd9fb",
   "metadata": {},
   "outputs": [
    {
     "data": {
      "text/plain": [
       "Index(['Company (Maker-if known)', 'Specific Bean Origin or Bar Name', 'REF',\n",
       "       'Review Date', 'Cocoa Percent', 'Company Location', 'Rating',\n",
       "       'Broad Bean Origin'],\n",
       "      dtype='object')"
      ]
     },
     "execution_count": 7,
     "metadata": {},
     "output_type": "execute_result"
    }
   ],
   "source": [
    "df.columns"
   ]
  },
  {
   "cell_type": "code",
   "execution_count": 8,
   "id": "c519a246-a643-49d8-bfed-f88d93330a60",
   "metadata": {},
   "outputs": [],
   "source": [
    "### Deleting the row containing missing value in the \"Broad Bean Origin\" column\n",
    "df = df.dropna(subset=['Broad Bean Origin'])"
   ]
  },
  {
   "cell_type": "code",
   "execution_count": 9,
   "id": "1f1a131c-0dd6-4c00-8c52-462b5ac581e1",
   "metadata": {},
   "outputs": [
    {
     "data": {
      "text/plain": [
       "Company (Maker-if known)            0\n",
       "Specific Bean Origin or Bar Name    0\n",
       "REF                                 0\n",
       "Review Date                         0\n",
       "Cocoa Percent                       0\n",
       "Company Location                    0\n",
       "Rating                              0\n",
       "Broad Bean Origin                   0\n",
       "dtype: int64"
      ]
     },
     "execution_count": 9,
     "metadata": {},
     "output_type": "execute_result"
    }
   ],
   "source": [
    "### Checking for missing values again\n",
    "df.isnull().sum()"
   ]
  },
  {
   "cell_type": "code",
   "execution_count": 10,
   "id": "0fc14821-5f1a-457b-9a25-9ea8ffef5d02",
   "metadata": {},
   "outputs": [],
   "source": [
    "### Checking for duplicates\n",
    "df_dups = df[df.duplicated()]"
   ]
  },
  {
   "cell_type": "code",
   "execution_count": 11,
   "id": "c6826525-6959-445c-96dc-eb885567162f",
   "metadata": {},
   "outputs": [
    {
     "data": {
      "text/html": [
       "<div>\n",
       "<style scoped>\n",
       "    .dataframe tbody tr th:only-of-type {\n",
       "        vertical-align: middle;\n",
       "    }\n",
       "\n",
       "    .dataframe tbody tr th {\n",
       "        vertical-align: top;\n",
       "    }\n",
       "\n",
       "    .dataframe thead th {\n",
       "        text-align: right;\n",
       "    }\n",
       "</style>\n",
       "<table border=\"1\" class=\"dataframe\">\n",
       "  <thead>\n",
       "    <tr style=\"text-align: right;\">\n",
       "      <th></th>\n",
       "      <th>Company (Maker-if known)</th>\n",
       "      <th>Specific Bean Origin or Bar Name</th>\n",
       "      <th>REF</th>\n",
       "      <th>Review Date</th>\n",
       "      <th>Cocoa Percent</th>\n",
       "      <th>Company Location</th>\n",
       "      <th>Rating</th>\n",
       "      <th>Broad Bean Origin</th>\n",
       "    </tr>\n",
       "  </thead>\n",
       "  <tbody>\n",
       "  </tbody>\n",
       "</table>\n",
       "</div>"
      ],
      "text/plain": [
       "Empty DataFrame\n",
       "Columns: [Company (Maker-if known), Specific Bean Origin or Bar Name, REF, Review Date, Cocoa Percent, Company Location, Rating, Broad Bean Origin]\n",
       "Index: []"
      ]
     },
     "execution_count": 11,
     "metadata": {},
     "output_type": "execute_result"
    }
   ],
   "source": [
    "df_dups"
   ]
  },
  {
   "cell_type": "markdown",
   "id": "e5bfd8af-2053-405e-bd3b-7f9f0b8db43f",
   "metadata": {},
   "source": [
    "### There are no duplicates in the dataset"
   ]
  },
  {
   "cell_type": "code",
   "execution_count": 12,
   "id": "f62766da-7696-4971-8414-cc36337fc30a",
   "metadata": {},
   "outputs": [
    {
     "name": "stdout",
     "output_type": "stream",
     "text": [
      "<class 'pandas.core.frame.DataFrame'>\n",
      "Index: 1794 entries, 0 to 1794\n",
      "Data columns (total 8 columns):\n",
      " #   Column                            Non-Null Count  Dtype  \n",
      "---  ------                            --------------  -----  \n",
      " 0   Company (Maker-if known)          1794 non-null   object \n",
      " 1   Specific Bean Origin or Bar Name  1794 non-null   object \n",
      " 2   REF                               1794 non-null   int64  \n",
      " 3   Review Date                       1794 non-null   int64  \n",
      " 4   Cocoa Percent                     1794 non-null   object \n",
      " 5   Company Location                  1794 non-null   object \n",
      " 6   Rating                            1794 non-null   float64\n",
      " 7   Broad Bean Origin                 1794 non-null   object \n",
      "dtypes: float64(1), int64(2), object(5)\n",
      "memory usage: 126.1+ KB\n"
     ]
    }
   ],
   "source": [
    "### Checking data types\n",
    "df.info()"
   ]
  },
  {
   "cell_type": "markdown",
   "id": "91c5b20c-e0ee-40ae-abcf-33c2e4fd9b20",
   "metadata": {},
   "source": [
    "### \"Cocoa Percent\" column has the type \"object\" instead of \"float64\""
   ]
  },
  {
   "cell_type": "code",
   "execution_count": 13,
   "id": "373ce9c4-c8be-4cfe-be7d-9659c58feae9",
   "metadata": {},
   "outputs": [],
   "source": [
    "### Fixing the datatype issue\n",
    "df['Cocoa Percent'] = df['Cocoa Percent'].str.replace('%', '').astype(float)"
   ]
  },
  {
   "cell_type": "code",
   "execution_count": 14,
   "id": "54a91d0a-71a7-4a34-a70c-2cfeb3f5cc91",
   "metadata": {},
   "outputs": [
    {
     "name": "stdout",
     "output_type": "stream",
     "text": [
      "<class 'pandas.core.frame.DataFrame'>\n",
      "Index: 1794 entries, 0 to 1794\n",
      "Data columns (total 8 columns):\n",
      " #   Column                            Non-Null Count  Dtype  \n",
      "---  ------                            --------------  -----  \n",
      " 0   Company (Maker-if known)          1794 non-null   object \n",
      " 1   Specific Bean Origin or Bar Name  1794 non-null   object \n",
      " 2   REF                               1794 non-null   int64  \n",
      " 3   Review Date                       1794 non-null   int64  \n",
      " 4   Cocoa Percent                     1794 non-null   float64\n",
      " 5   Company Location                  1794 non-null   object \n",
      " 6   Rating                            1794 non-null   float64\n",
      " 7   Broad Bean Origin                 1794 non-null   object \n",
      "dtypes: float64(2), int64(2), object(4)\n",
      "memory usage: 126.1+ KB\n"
     ]
    }
   ],
   "source": [
    "df.info()"
   ]
  },
  {
   "cell_type": "code",
   "execution_count": 16,
   "id": "cea4119c-bce1-4051-a208-9d79519626d9",
   "metadata": {},
   "outputs": [],
   "source": [
    "### Exporting dataframe with clean data \n",
    "df.to_csv(os.path.join(path,'flavors_of_cacao_cleaned.csv'))"
   ]
  },
  {
   "cell_type": "code",
   "execution_count": null,
   "id": "dd524797-4eed-46bb-a77f-26641ac29ad0",
   "metadata": {},
   "outputs": [],
   "source": []
  }
 ],
 "metadata": {
  "kernelspec": {
   "display_name": "Python 3 (ipykernel)",
   "language": "python",
   "name": "python3"
  },
  "language_info": {
   "codemirror_mode": {
    "name": "ipython",
    "version": 3
   },
   "file_extension": ".py",
   "mimetype": "text/x-python",
   "name": "python",
   "nbconvert_exporter": "python",
   "pygments_lexer": "ipython3",
   "version": "3.13.1"
  }
 },
 "nbformat": 4,
 "nbformat_minor": 5
}
